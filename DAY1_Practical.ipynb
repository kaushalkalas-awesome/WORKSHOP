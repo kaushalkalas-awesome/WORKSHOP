{
  "nbformat": 4,
  "nbformat_minor": 0,
  "metadata": {
    "colab": {
      "provenance": [],
      "authorship_tag": "ABX9TyPuyajO5w5ERRk08hvTI6sW",
      "include_colab_link": true
    },
    "kernelspec": {
      "name": "python3",
      "display_name": "Python 3"
    },
    "language_info": {
      "name": "python"
    }
  },
  "cells": [
    {
      "cell_type": "markdown",
      "metadata": {
        "id": "view-in-github",
        "colab_type": "text"
      },
      "source": [
        "<a href=\"https://colab.research.google.com/github/kaushalkalas-awesome/WORKSHOP/blob/main/DAY1_Practical.ipynb\" target=\"_parent\"><img src=\"https://colab.research.google.com/assets/colab-badge.svg\" alt=\"Open In Colab\"/></a>"
      ]
    },
    {
      "cell_type": "code",
      "execution_count": null,
      "metadata": {
        "colab": {
          "base_uri": "https://localhost:8080/"
        },
        "id": "8Q3T43GCwdLc",
        "outputId": "2606d29e-ee07-4c11-e2d2-3b53a1a8d602"
      },
      "outputs": [
        {
          "output_type": "stream",
          "name": "stdout",
          "text": [
            "Enter the salary: 25000\n",
            "Low Income\n"
          ]
        }
      ],
      "source": [
        "# 1. Identify the Employee Category\n",
        "emp_sal = int(input(\"Enter the salary: \"))\n",
        "if emp_sal > 50000:\n",
        "  print(\"High Income\")\n",
        "elif emp_sal > 30000 and emp_sal < 50000:\n",
        "  print(\"Medium Income\")\n",
        "else:\n",
        "  print(\"Low Income\")"
      ]
    },
    {
      "cell_type": "code",
      "source": [
        "# 2. Odd or Even Streetlight System\n",
        "streetlight_no = int(input(\"Enter StreetLight No.: \"))\n",
        "if streetlight_no%2==0:\n",
        "  print(\"ON\")\n",
        "else:\n",
        "  print(\"OFF\")"
      ],
      "metadata": {
        "colab": {
          "base_uri": "https://localhost:8080/"
        },
        "id": "ouEOdjtbx1P9",
        "outputId": "209d2e79-5cca-4420-b254-0f34818660e1"
      },
      "execution_count": null,
      "outputs": [
        {
          "output_type": "stream",
          "name": "stdout",
          "text": [
            "Enter StreetLight No.: 3\n",
            "OFF\n"
          ]
        }
      ]
    },
    {
      "cell_type": "code",
      "source": [
        "# 3. Imagine you are designing a basic ATM-like interface where users can:\n",
        "bal = 0\n",
        "i=0\n",
        "while i!=4:\n",
        "  print(\"\\n1. Check Balance\")\n",
        "  print(\"2. Deposit Money\")\n",
        "  print(\"3. Withdral Money\")\n",
        "  print(\"4. Exit\")\n",
        "  i=int(input(\"\\nEnter operation: \"))\n",
        "\n",
        "  if i==1:\n",
        "    print(\"Total Balance: \", bal)\n",
        "  elif i==2:\n",
        "    add_amt=int(input(\"Enter Deposit Amount: \"))\n",
        "    print(\"Amount to be deposited: \", add_amt)\n",
        "    bal+=add_amt\n",
        "    print(\"Amount deposited successfully! \\nTotal Balance: \",bal)\n",
        "  elif i==3:\n",
        "    with_amt=int(input(\"Enter Withdrawal Amount: \"))\n",
        "    if with_amt > bal:\n",
        "      print(\"Insufficient Balance!\")\n",
        "    else:\n",
        "      bal-=with_amt\n",
        "      print(\"Amount withdrawal successfully! \\nTotal Balance: \",bal)\n",
        "  elif i==4:\n",
        "      print(\"Thank you!\")\n",
        "      break\n",
        "  else:\n",
        "    print(\"Invalid Operation\")"
      ],
      "metadata": {
        "colab": {
          "base_uri": "https://localhost:8080/"
        },
        "id": "_m7epsr0yo04",
        "outputId": "f2ec022b-ef96-4543-b13b-7d880185f662"
      },
      "execution_count": null,
      "outputs": [
        {
          "output_type": "stream",
          "name": "stdout",
          "text": [
            "\n",
            "1. Check Balance\n",
            "2. Deposit Money\n",
            "3. Withdral Money\n",
            "4. Exit\n",
            "\n",
            "Enter operation: 2\n",
            "Enter Deposit Amount: 30000\n",
            "Amount to be deposited:  30000\n",
            "Amount deposited successfully! \n",
            "Total Balance:  30000\n",
            "\n",
            "1. Check Balance\n",
            "2. Deposit Money\n",
            "3. Withdral Money\n",
            "4. Exit\n",
            "\n",
            "Enter operation: 3\n",
            "Enter Withdrawal Amount: 100\n",
            "Amount withdrawal successfully! \n",
            "Total Balance:  29900\n",
            "\n",
            "1. Check Balance\n",
            "2. Deposit Money\n",
            "3. Withdral Money\n",
            "4. Exit\n",
            "\n",
            "Enter operation: 1\n",
            "Total Balance:  29900\n",
            "\n",
            "1. Check Balance\n",
            "2. Deposit Money\n",
            "3. Withdral Money\n",
            "4. Exit\n",
            "\n",
            "Enter operation: 4\n",
            "Thank you!\n"
          ]
        }
      ]
    },
    {
      "cell_type": "code",
      "source": [
        "# 4. Counting Passengers in a Bus\n",
        "passengers,sum=0,0;\n",
        "for i in range(1,6):\n",
        "  passengers = int(input(f\"Enter Number of Passengers at {i}: \"))\n",
        "  sum+=passengers\n",
        "\n",
        "print(\"Total Passengers: \", sum)"
      ],
      "metadata": {
        "colab": {
          "base_uri": "https://localhost:8080/"
        },
        "id": "_i2YXdap3pNz",
        "outputId": "2a9bd70b-7217-4ff7-967a-359fa678a089"
      },
      "execution_count": null,
      "outputs": [
        {
          "output_type": "stream",
          "name": "stdout",
          "text": [
            "Enter Number of Passengers at 11\n",
            "Enter Number of Passengers at 22\n",
            "Enter Number of Passengers at 33\n",
            "Enter Number of Passengers at 44\n",
            "Enter Number of Passengers at 55\n",
            "Total Passengers:  15\n"
          ]
        }
      ]
    },
    {
      "cell_type": "code",
      "source": [
        "# 5. ATM PIN Verification\n",
        "attempt=3\n",
        "for i in range(1,4):\n",
        "  pin=int(input(\"Enter PIN: \"))\n",
        "  if pin==1234:\n",
        "    attempt -= 1\n",
        "    if attempt == 0:\n",
        "      print(\"Granted\")\n",
        "  else:\n",
        "    print(\"Denied\")\n",
        "    break"
      ],
      "metadata": {
        "colab": {
          "base_uri": "https://localhost:8080/"
        },
        "id": "y8Ee4GG65Ga6",
        "outputId": "ad213532-1d30-4218-ee57-5cb517f11695"
      },
      "execution_count": null,
      "outputs": [
        {
          "output_type": "stream",
          "name": "stdout",
          "text": [
            "Enter PIN: 345345\n",
            "Denied\n"
          ]
        }
      ]
    },
    {
      "cell_type": "code",
      "source": [
        "# 6. Reverse a Number\n",
        "num = int(input(\"Enter Number: \"))\n",
        "rev = 0\n",
        "\n",
        "while num > 0:\n",
        "    digit = num % 10\n",
        "    rev = (rev * 10) + digit\n",
        "    num //= 10\n",
        "\n",
        "print(rev)"
      ],
      "metadata": {
        "colab": {
          "base_uri": "https://localhost:8080/"
        },
        "id": "-3hkHDAN6cJX",
        "outputId": "38c4f1c7-ccdc-4d71-9d1b-8b492b9eb834"
      },
      "execution_count": null,
      "outputs": [
        {
          "output_type": "stream",
          "name": "stdout",
          "text": [
            "Enter Number: 12345\n",
            "54321\n"
          ]
        }
      ]
    }
  ]
}